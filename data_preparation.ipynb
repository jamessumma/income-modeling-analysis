{
 "cells": [
  {
   "cell_type": "markdown",
   "id": "6d6c5fff",
   "metadata": {},
   "source": [
    "### Imports"
   ]
  },
  {
   "cell_type": "code",
   "execution_count": null,
   "id": "5d352e79",
   "metadata": {},
   "outputs": [],
   "source": [
    "import pandas as pd\n",
    "import numpy as np"
   ]
  },
  {
   "cell_type": "markdown",
   "id": "c38efd2f",
   "metadata": {},
   "source": [
    "### Load the Data"
   ]
  },
  {
   "cell_type": "code",
   "execution_count": null,
   "id": "f386d77d",
   "metadata": {},
   "outputs": [],
   "source": [
    "column_names = [\n",
    "    \"age\", \"workclass\", \"fnlwgt\", \"education\", \"education_num\", \n",
    "    \"marital_status\", \"occupation\", \"relationship\", \"race\", \"sex\", \n",
    "    \"capital_gain\", \"capital_loss\", \"hours_per_week\", \"native_country\", \"income\"\n",
    "]\n",
    "df = pd.read_csv(\"adult/adult.data\", names=column_names, sep=',', na_values='?', skipinitialspace=True)\n",
    "df.head()"
   ]
  }
 ],
 "metadata": {
  "language_info": {
   "name": "python"
  }
 },
 "nbformat": 4,
 "nbformat_minor": 5
}
